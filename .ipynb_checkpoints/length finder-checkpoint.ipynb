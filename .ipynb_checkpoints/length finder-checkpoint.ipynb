{
 "cells": [
  {
   "cell_type": "code",
   "execution_count": null,
   "id": "b1c6404c",
   "metadata": {},
   "outputs": [],
   "source": []
  },
  {
   "cell_type": "code",
   "execution_count": null,
   "id": "3bbbf042",
   "metadata": {},
   "outputs": [],
   "source": [
    "import pandas as pan\n",
    "b_url = pan.read_csv(\"online-valid.csv\")\n",
    "\n",
    "fin_b = b_url.sample(n=5000,random_state=13).copy()\n",
    "fin_b = fin_b.reset_index(drop = True)\n",
    "fin_b.to_csv('legit_5000',index=F)"
   ]
  }
 ],
 "metadata": {
  "kernelspec": {
   "display_name": "Python 3 (ipykernel)",
   "language": "python",
   "name": "python3"
  },
  "language_info": {
   "codemirror_mode": {
    "name": "ipython",
    "version": 3
   },
   "file_extension": ".py",
   "mimetype": "text/x-python",
   "name": "python",
   "nbconvert_exporter": "python",
   "pygments_lexer": "ipython3",
   "version": "3.9.7"
  }
 },
 "nbformat": 4,
 "nbformat_minor": 5
}
